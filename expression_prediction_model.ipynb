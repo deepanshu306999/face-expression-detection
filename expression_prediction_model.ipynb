{
 "cells": [
  {
   "cell_type": "code",
   "execution_count": 1,
   "metadata": {
    "executionInfo": {
     "elapsed": 3409,
     "status": "ok",
     "timestamp": 1603653297109,
     "user": {
      "displayName": "Deepanshu Arora",
      "photoUrl": "https://lh3.googleusercontent.com/a-/AOh14Gi80dFWDCPvEzYBhx3LuAcAR6hQgayGv0eS2_ze3Q=s64",
      "userId": "14386226755784488159"
     },
     "user_tz": -330
    },
    "id": "810GUatO-JCM"
   },
   "outputs": [],
   "source": [
    "num_classes = 7\n",
    "batch_size = 256\n",
    "epochs = 25\n"
   ]
  },
  {
   "cell_type": "code",
   "execution_count": 2,
   "metadata": {
    "executionInfo": {
     "elapsed": 4037,
     "status": "ok",
     "timestamp": 1603653298421,
     "user": {
      "displayName": "Deepanshu Arora",
      "photoUrl": "https://lh3.googleusercontent.com/a-/AOh14Gi80dFWDCPvEzYBhx3LuAcAR6hQgayGv0eS2_ze3Q=s64",
      "userId": "14386226755784488159"
     },
     "user_tz": -330
    },
    "id": "K5u_a6K0-JCW"
   },
   "outputs": [],
   "source": [
    "import numpy as np\n",
    "import pandas as pd\n",
    "import matplotlib.pyplot as plt\n",
    "\n",
    "\n",
    "import keras\n",
    "from keras.models import Sequential\n",
    "from keras.layers import Conv2D, MaxPooling2D, AveragePooling2D\n",
    "from keras.layers import Dense, Activation, Dropout, Flatten\n",
    "\n",
    "from keras.preprocessing import image\n",
    "from keras.preprocessing.image import ImageDataGenerator\n",
    "import pandas as pd\n",
    "import numpy as np\n",
    "import matplotlib.pyplot as plt\n",
    "\n",
    "from keras.optimizers import Adam"
   ]
  },
  {
   "cell_type": "code",
   "execution_count": 3,
   "metadata": {
    "colab": {
     "base_uri": "https://localhost:8080/",
     "height": 34
    },
    "executionInfo": {
     "elapsed": 34249,
     "status": "ok",
     "timestamp": 1603653329235,
     "user": {
      "displayName": "Deepanshu Arora",
      "photoUrl": "https://lh3.googleusercontent.com/a-/AOh14Gi80dFWDCPvEzYBhx3LuAcAR6hQgayGv0eS2_ze3Q=s64",
      "userId": "14386226755784488159"
     },
     "user_tz": -330
    },
    "id": "Nbdn8mPhhIBy",
    "outputId": "8ae24a81-deaa-4b94-e096-9602918bac75"
   },
   "outputs": [
    {
     "name": "stdout",
     "output_type": "stream",
     "text": [
      "Mounted at /content/drive\n"
     ]
    }
   ],
   "source": [
    "from google.colab import drive\n",
    "drive.mount('/content/drive')"
   ]
  },
  {
   "cell_type": "code",
   "execution_count": 4,
   "metadata": {
    "executionInfo": {
     "elapsed": 38099,
     "status": "ok",
     "timestamp": 1603653333653,
     "user": {
      "displayName": "Deepanshu Arora",
      "photoUrl": "https://lh3.googleusercontent.com/a-/AOh14Gi80dFWDCPvEzYBhx3LuAcAR6hQgayGv0eS2_ze3Q=s64",
      "userId": "14386226755784488159"
     },
     "user_tz": -330
    },
    "id": "qUOxV-5Q-hnb"
   },
   "outputs": [],
   "source": [
    "with open(\"/content/drive/My Drive/fer2013.csv\") as f:\n",
    "    con = f.readlines()\n",
    "    \n",
    "lines = np.array(con)\n",
    "\n",
    "num_of_instances = lines.size"
   ]
  },
  {
   "cell_type": "code",
   "execution_count": 5,
   "metadata": {
    "colab": {
     "base_uri": "https://localhost:8080/",
     "height": 52
    },
    "executionInfo": {
     "elapsed": 37465,
     "status": "ok",
     "timestamp": 1603653333656,
     "user": {
      "displayName": "Deepanshu Arora",
      "photoUrl": "https://lh3.googleusercontent.com/a-/AOh14Gi80dFWDCPvEzYBhx3LuAcAR6hQgayGv0eS2_ze3Q=s64",
      "userId": "14386226755784488159"
     },
     "user_tz": -330
    },
    "id": "bcnlX1vB-JCl",
    "outputId": "4125c72d-8573-49e6-ce08-b9debeb635ec"
   },
   "outputs": [
    {
     "name": "stdout",
     "output_type": "stream",
     "text": [
      "number of instances = 35888\n",
      "total no of pixels  =  2304\n"
     ]
    }
   ],
   "source": [
    "print(\"number of instances =\",lines.size)\n",
    "print(\"total no of pixels  = \",len(lines[1].split(\",\")[1].split(\" \")))"
   ]
  },
  {
   "cell_type": "code",
   "execution_count": 6,
   "metadata": {
    "executionInfo": {
     "elapsed": 53544,
     "status": "ok",
     "timestamp": 1603653350450,
     "user": {
      "displayName": "Deepanshu Arora",
      "photoUrl": "https://lh3.googleusercontent.com/a-/AOh14Gi80dFWDCPvEzYBhx3LuAcAR6hQgayGv0eS2_ze3Q=s64",
      "userId": "14386226755784488159"
     },
     "user_tz": -330
    },
    "id": "D5DzniRC-JCs"
   },
   "outputs": [],
   "source": [
    "x_train , y_train, x_test, y_test = [],[],[],[]\n",
    "\n",
    "for i in range(1,num_of_instances):\n",
    "    try:\n",
    "        emotion,img,usage = lines[i].split(\",\")\n",
    "        val = img.split(\" \")\n",
    "        pixels = np.array(val,'float32')\n",
    "        emotion = keras.utils.to_categorical(emotion,num_classes)\n",
    "        if 'Training' in usage:\n",
    "            y_train.append(emotion)\n",
    "            x_train.append(pixels)\n",
    "        elif 'PublicTest' in usage:\n",
    "            y_test.append(emotion)\n",
    "            x_test.append(pixels)\n",
    "    except:\n",
    "        print(\"\",end=\"\")\n"
   ]
  },
  {
   "cell_type": "code",
   "execution_count": 7,
   "metadata": {
    "executionInfo": {
     "elapsed": 3283,
     "status": "ok",
     "timestamp": 1603653353790,
     "user": {
      "displayName": "Deepanshu Arora",
      "photoUrl": "https://lh3.googleusercontent.com/a-/AOh14Gi80dFWDCPvEzYBhx3LuAcAR6hQgayGv0eS2_ze3Q=s64",
      "userId": "14386226755784488159"
     },
     "user_tz": -330
    },
    "id": "X1keO0JT-JC9"
   },
   "outputs": [],
   "source": [
    "x_train = np.array(x_train,'float32')\n",
    "y_train = np.array(y_train,'float32')\n",
    "x_test  = np.array(x_test,'float32')\n",
    "y_test  = np.array(y_test,'float32')\n",
    "\n",
    "x_train /= 255\n",
    "x_test /= 255"
   ]
  },
  {
   "cell_type": "code",
   "execution_count": 8,
   "metadata": {
    "colab": {
     "base_uri": "https://localhost:8080/",
     "height": 34
    },
    "executionInfo": {
     "elapsed": 3236,
     "status": "ok",
     "timestamp": 1603653353792,
     "user": {
      "displayName": "Deepanshu Arora",
      "photoUrl": "https://lh3.googleusercontent.com/a-/AOh14Gi80dFWDCPvEzYBhx3LuAcAR6hQgayGv0eS2_ze3Q=s64",
      "userId": "14386226755784488159"
     },
     "user_tz": -330
    },
    "id": "UEoxOl5e-JDQ",
    "outputId": "6d74978d-8d98-4dc8-ca80-3fcec51306fe"
   },
   "outputs": [
    {
     "data": {
      "text/plain": [
       "(28709, 2304)"
      ]
     },
     "execution_count": 8,
     "metadata": {
      "tags": []
     },
     "output_type": "execute_result"
    }
   ],
   "source": [
    "x_train.shape"
   ]
  },
  {
   "cell_type": "code",
   "execution_count": 9,
   "metadata": {
    "executionInfo": {
     "elapsed": 3171,
     "status": "ok",
     "timestamp": 1603653353802,
     "user": {
      "displayName": "Deepanshu Arora",
      "photoUrl": "https://lh3.googleusercontent.com/a-/AOh14Gi80dFWDCPvEzYBhx3LuAcAR6hQgayGv0eS2_ze3Q=s64",
      "userId": "14386226755784488159"
     },
     "user_tz": -330
    },
    "id": "7gkTbaeX-JDc"
   },
   "outputs": [],
   "source": [
    "x_train = x_train.reshape(x_train.shape[0],48,48,1)\n",
    "x_train = x_train.astype('float32')\n",
    "x_test = x_test.reshape(x_test.shape[0],48,48,1)\n",
    "x_test = x_test.astype('float32')"
   ]
  },
  {
   "cell_type": "code",
   "execution_count": 10,
   "metadata": {
    "colab": {
     "base_uri": "https://localhost:8080/",
     "height": 52
    },
    "executionInfo": {
     "elapsed": 3118,
     "status": "ok",
     "timestamp": 1603653353804,
     "user": {
      "displayName": "Deepanshu Arora",
      "photoUrl": "https://lh3.googleusercontent.com/a-/AOh14Gi80dFWDCPvEzYBhx3LuAcAR6hQgayGv0eS2_ze3Q=s64",
      "userId": "14386226755784488159"
     },
     "user_tz": -330
    },
    "id": "zHKsMsRj-JDw",
    "outputId": "ec7cd6b7-e829-44e1-e070-9a67e6377271"
   },
   "outputs": [
    {
     "name": "stdout",
     "output_type": "stream",
     "text": [
      "28709 train samples\n",
      "3589 test samples\n"
     ]
    }
   ],
   "source": [
    "print(x_train.shape[0],'train samples')\n",
    "print(x_test.shape[0],'test samples')"
   ]
  },
  {
   "cell_type": "code",
   "execution_count": 11,
   "metadata": {
    "executionInfo": {
     "elapsed": 2836,
     "status": "ok",
     "timestamp": 1603653353809,
     "user": {
      "displayName": "Deepanshu Arora",
      "photoUrl": "https://lh3.googleusercontent.com/a-/AOh14Gi80dFWDCPvEzYBhx3LuAcAR6hQgayGv0eS2_ze3Q=s64",
      "userId": "14386226755784488159"
     },
     "user_tz": -330
    },
    "id": "uttgXp_0-JD-"
   },
   "outputs": [],
   "source": [
    "from keras.layers.normalization import BatchNormalization"
   ]
  },
  {
   "cell_type": "code",
   "execution_count": 12,
   "metadata": {
    "executionInfo": {
     "elapsed": 8017,
     "status": "ok",
     "timestamp": 1603653359343,
     "user": {
      "displayName": "Deepanshu Arora",
      "photoUrl": "https://lh3.googleusercontent.com/a-/AOh14Gi80dFWDCPvEzYBhx3LuAcAR6hQgayGv0eS2_ze3Q=s64",
      "userId": "14386226755784488159"
     },
     "user_tz": -330
    },
    "id": "Dj7z6jPH-JEZ"
   },
   "outputs": [],
   "source": [
    "#model\n",
    "model = Sequential()\n",
    "input_shape = (48,48,1)\n",
    "model.add(Conv2D(64, (5, 5), input_shape=input_shape,activation='relu', padding='same'))\n",
    "model.add(Conv2D(64, (5, 5), activation='relu', padding='same'))\n",
    "model.add(BatchNormalization())\n",
    "model.add(MaxPooling2D(pool_size=(2, 2)))\n",
    "\n",
    "model.add(Conv2D(128, (5, 5),activation='relu',padding='same'))\n",
    "model.add(Conv2D(128, (5, 5),activation='relu',padding='same'))\n",
    "model.add(BatchNormalization())\n",
    "model.add(MaxPooling2D(pool_size=(2, 2)))\n",
    "\n",
    "model.add(Conv2D(256, (3, 3),activation='relu',padding='same'))\n",
    "model.add(Conv2D(256, (3, 3),activation='relu',padding='same'))\n",
    "model.add(BatchNormalization())\n",
    "model.add(MaxPooling2D(pool_size=(2, 2)))\n",
    "\n",
    "model.add(Flatten())\n",
    "model.add(Dense(128))\n",
    "model.add(BatchNormalization())\n",
    "model.add(Activation('relu'))\n",
    "model.add(Dropout(0.2))\n",
    "model.add(Dense(7))\n",
    "model.add(Activation('softmax'))"
   ]
  },
  {
   "cell_type": "code",
   "execution_count": 13,
   "metadata": {
    "colab": {
     "base_uri": "https://localhost:8080/",
     "height": 812
    },
    "executionInfo": {
     "elapsed": 7273,
     "status": "ok",
     "timestamp": 1603653359346,
     "user": {
      "displayName": "Deepanshu Arora",
      "photoUrl": "https://lh3.googleusercontent.com/a-/AOh14Gi80dFWDCPvEzYBhx3LuAcAR6hQgayGv0eS2_ze3Q=s64",
      "userId": "14386226755784488159"
     },
     "user_tz": -330
    },
    "id": "cj2pihQn-JEi",
    "outputId": "7674d6ac-ed31-4502-b829-800963bc5fc2"
   },
   "outputs": [
    {
     "name": "stdout",
     "output_type": "stream",
     "text": [
      "Model: \"sequential\"\n",
      "_________________________________________________________________\n",
      "Layer (type)                 Output Shape              Param #   \n",
      "=================================================================\n",
      "conv2d (Conv2D)              (None, 48, 48, 64)        1664      \n",
      "_________________________________________________________________\n",
      "conv2d_1 (Conv2D)            (None, 48, 48, 64)        102464    \n",
      "_________________________________________________________________\n",
      "batch_normalization (BatchNo (None, 48, 48, 64)        256       \n",
      "_________________________________________________________________\n",
      "max_pooling2d (MaxPooling2D) (None, 24, 24, 64)        0         \n",
      "_________________________________________________________________\n",
      "conv2d_2 (Conv2D)            (None, 24, 24, 128)       204928    \n",
      "_________________________________________________________________\n",
      "conv2d_3 (Conv2D)            (None, 24, 24, 128)       409728    \n",
      "_________________________________________________________________\n",
      "batch_normalization_1 (Batch (None, 24, 24, 128)       512       \n",
      "_________________________________________________________________\n",
      "max_pooling2d_1 (MaxPooling2 (None, 12, 12, 128)       0         \n",
      "_________________________________________________________________\n",
      "conv2d_4 (Conv2D)            (None, 12, 12, 256)       295168    \n",
      "_________________________________________________________________\n",
      "conv2d_5 (Conv2D)            (None, 12, 12, 256)       590080    \n",
      "_________________________________________________________________\n",
      "batch_normalization_2 (Batch (None, 12, 12, 256)       1024      \n",
      "_________________________________________________________________\n",
      "max_pooling2d_2 (MaxPooling2 (None, 6, 6, 256)         0         \n",
      "_________________________________________________________________\n",
      "flatten (Flatten)            (None, 9216)              0         \n",
      "_________________________________________________________________\n",
      "dense (Dense)                (None, 128)               1179776   \n",
      "_________________________________________________________________\n",
      "batch_normalization_3 (Batch (None, 128)               512       \n",
      "_________________________________________________________________\n",
      "activation (Activation)      (None, 128)               0         \n",
      "_________________________________________________________________\n",
      "dropout (Dropout)            (None, 128)               0         \n",
      "_________________________________________________________________\n",
      "dense_1 (Dense)              (None, 7)                 903       \n",
      "_________________________________________________________________\n",
      "activation_1 (Activation)    (None, 7)                 0         \n",
      "=================================================================\n",
      "Total params: 2,787,015\n",
      "Trainable params: 2,785,863\n",
      "Non-trainable params: 1,152\n",
      "_________________________________________________________________\n"
     ]
    }
   ],
   "source": [
    "model.summary()"
   ]
  },
  {
   "cell_type": "code",
   "execution_count": 14,
   "metadata": {
    "colab": {
     "base_uri": "https://localhost:8080/",
     "height": 812
    },
    "executionInfo": {
     "elapsed": 6508,
     "status": "ok",
     "timestamp": 1603653359348,
     "user": {
      "displayName": "Deepanshu Arora",
      "photoUrl": "https://lh3.googleusercontent.com/a-/AOh14Gi80dFWDCPvEzYBhx3LuAcAR6hQgayGv0eS2_ze3Q=s64",
      "userId": "14386226755784488159"
     },
     "user_tz": -330
    },
    "id": "Zpp4d9a9-JE-",
    "outputId": "b6382ed2-9d01-4e87-91e4-9f78dd37a957"
   },
   "outputs": [
    {
     "name": "stdout",
     "output_type": "stream",
     "text": [
      "Model: \"sequential\"\n",
      "_________________________________________________________________\n",
      "Layer (type)                 Output Shape              Param #   \n",
      "=================================================================\n",
      "conv2d (Conv2D)              (None, 48, 48, 64)        1664      \n",
      "_________________________________________________________________\n",
      "conv2d_1 (Conv2D)            (None, 48, 48, 64)        102464    \n",
      "_________________________________________________________________\n",
      "batch_normalization (BatchNo (None, 48, 48, 64)        256       \n",
      "_________________________________________________________________\n",
      "max_pooling2d (MaxPooling2D) (None, 24, 24, 64)        0         \n",
      "_________________________________________________________________\n",
      "conv2d_2 (Conv2D)            (None, 24, 24, 128)       204928    \n",
      "_________________________________________________________________\n",
      "conv2d_3 (Conv2D)            (None, 24, 24, 128)       409728    \n",
      "_________________________________________________________________\n",
      "batch_normalization_1 (Batch (None, 24, 24, 128)       512       \n",
      "_________________________________________________________________\n",
      "max_pooling2d_1 (MaxPooling2 (None, 12, 12, 128)       0         \n",
      "_________________________________________________________________\n",
      "conv2d_4 (Conv2D)            (None, 12, 12, 256)       295168    \n",
      "_________________________________________________________________\n",
      "conv2d_5 (Conv2D)            (None, 12, 12, 256)       590080    \n",
      "_________________________________________________________________\n",
      "batch_normalization_2 (Batch (None, 12, 12, 256)       1024      \n",
      "_________________________________________________________________\n",
      "max_pooling2d_2 (MaxPooling2 (None, 6, 6, 256)         0         \n",
      "_________________________________________________________________\n",
      "flatten (Flatten)            (None, 9216)              0         \n",
      "_________________________________________________________________\n",
      "dense (Dense)                (None, 128)               1179776   \n",
      "_________________________________________________________________\n",
      "batch_normalization_3 (Batch (None, 128)               512       \n",
      "_________________________________________________________________\n",
      "activation (Activation)      (None, 128)               0         \n",
      "_________________________________________________________________\n",
      "dropout (Dropout)            (None, 128)               0         \n",
      "_________________________________________________________________\n",
      "dense_1 (Dense)              (None, 7)                 903       \n",
      "_________________________________________________________________\n",
      "activation_1 (Activation)    (None, 7)                 0         \n",
      "=================================================================\n",
      "Total params: 2,787,015\n",
      "Trainable params: 2,785,863\n",
      "Non-trainable params: 1,152\n",
      "_________________________________________________________________\n"
     ]
    }
   ],
   "source": [
    "adam = Adam(lr=0.00003)\n",
    "model.compile(loss='categorical_crossentropy', optimizer=adam, metrics=['accuracy'])\n",
    "model.summary()"
   ]
  },
  {
   "cell_type": "code",
   "execution_count": 15,
   "metadata": {
    "colab": {
     "base_uri": "https://localhost:8080/",
     "height": 694
    },
    "executionInfo": {
     "elapsed": 326092,
     "status": "ok",
     "timestamp": 1603653679622,
     "user": {
      "displayName": "Deepanshu Arora",
      "photoUrl": "https://lh3.googleusercontent.com/a-/AOh14Gi80dFWDCPvEzYBhx3LuAcAR6hQgayGv0eS2_ze3Q=s64",
      "userId": "14386226755784488159"
     },
     "user_tz": -330
    },
    "id": "UH-srZ8i-JFb",
    "outputId": "a5584c4f-6c86-4598-be7e-ac8b99bfcfaf"
   },
   "outputs": [
    {
     "name": "stdout",
     "output_type": "stream",
     "text": [
      "Epoch 1/19\n",
      "449/449 [==============================] - 16s 35ms/step - loss: 1.8419 - accuracy: 0.3111 - val_loss: 1.9301 - val_accuracy: 0.2382\n",
      "Epoch 2/19\n",
      "449/449 [==============================] - 15s 34ms/step - loss: 1.5289 - accuracy: 0.4327 - val_loss: 1.4973 - val_accuracy: 0.4352\n",
      "Epoch 3/19\n",
      "449/449 [==============================] - 16s 35ms/step - loss: 1.3524 - accuracy: 0.4932 - val_loss: 1.4159 - val_accuracy: 0.4784\n",
      "Epoch 4/19\n",
      "449/449 [==============================] - 16s 35ms/step - loss: 1.2008 - accuracy: 0.5572 - val_loss: 1.3933 - val_accuracy: 0.4762\n",
      "Epoch 5/19\n",
      "449/449 [==============================] - 16s 35ms/step - loss: 1.0631 - accuracy: 0.6176 - val_loss: 1.4226 - val_accuracy: 0.4689\n",
      "Epoch 6/19\n",
      "449/449 [==============================] - 16s 36ms/step - loss: 0.9211 - accuracy: 0.6831 - val_loss: 1.3325 - val_accuracy: 0.4940\n",
      "Epoch 7/19\n",
      "449/449 [==============================] - 16s 36ms/step - loss: 0.7957 - accuracy: 0.7376 - val_loss: 1.3203 - val_accuracy: 0.5160\n",
      "Epoch 8/19\n",
      "449/449 [==============================] - 16s 37ms/step - loss: 0.6709 - accuracy: 0.7941 - val_loss: 1.3219 - val_accuracy: 0.5082\n",
      "Epoch 9/19\n",
      "449/449 [==============================] - 17s 37ms/step - loss: 0.5555 - accuracy: 0.8447 - val_loss: 1.3104 - val_accuracy: 0.5263\n",
      "Epoch 10/19\n",
      "449/449 [==============================] - 17s 38ms/step - loss: 0.4486 - accuracy: 0.8895 - val_loss: 1.3527 - val_accuracy: 0.5241\n",
      "Epoch 11/19\n",
      "449/449 [==============================] - 17s 37ms/step - loss: 0.3589 - accuracy: 0.9257 - val_loss: 1.3537 - val_accuracy: 0.5118\n",
      "Epoch 12/19\n",
      "449/449 [==============================] - 17s 37ms/step - loss: 0.2869 - accuracy: 0.9514 - val_loss: 1.3554 - val_accuracy: 0.5235\n",
      "Epoch 13/19\n",
      "449/449 [==============================] - 17s 37ms/step - loss: 0.2254 - accuracy: 0.9677 - val_loss: 1.3798 - val_accuracy: 0.5352\n",
      "Epoch 14/19\n",
      "449/449 [==============================] - 17s 37ms/step - loss: 0.1784 - accuracy: 0.9802 - val_loss: 1.3954 - val_accuracy: 0.5344\n",
      "Epoch 15/19\n",
      "449/449 [==============================] - 17s 37ms/step - loss: 0.1404 - accuracy: 0.9865 - val_loss: 1.4328 - val_accuracy: 0.5405\n",
      "Epoch 16/19\n",
      "449/449 [==============================] - 17s 37ms/step - loss: 0.1173 - accuracy: 0.9890 - val_loss: 1.5336 - val_accuracy: 0.5233\n",
      "Epoch 17/19\n",
      "449/449 [==============================] - 17s 37ms/step - loss: 0.0970 - accuracy: 0.9907 - val_loss: 1.5192 - val_accuracy: 0.5302\n",
      "Epoch 18/19\n",
      "449/449 [==============================] - 17s 37ms/step - loss: 0.0799 - accuracy: 0.9933 - val_loss: 1.5809 - val_accuracy: 0.5383\n",
      "Epoch 19/19\n",
      "449/449 [==============================] - 17s 37ms/step - loss: 0.0694 - accuracy: 0.9947 - val_loss: 1.5571 - val_accuracy: 0.5330\n"
     ]
    }
   ],
   "source": [
    "h=model.fit(x=x_train,     \n",
    "            y=y_train, \n",
    "            batch_size=64, \n",
    "            epochs=19, \n",
    "            verbose=1, \n",
    "            validation_data=(x_test,y_test),\n",
    "            shuffle=True,\n",
    "            )"
   ]
  },
  {
   "cell_type": "code",
   "execution_count": 16,
   "metadata": {
    "executionInfo": {
     "elapsed": 325402,
     "status": "ok",
     "timestamp": 1603653679626,
     "user": {
      "displayName": "Deepanshu Arora",
      "photoUrl": "https://lh3.googleusercontent.com/a-/AOh14Gi80dFWDCPvEzYBhx3LuAcAR6hQgayGv0eS2_ze3Q=s64",
      "userId": "14386226755784488159"
     },
     "user_tz": -330
    },
    "id": "M5L7JSu2-JFu"
   },
   "outputs": [],
   "source": [
    "def emotion_analysis(emotions):\n",
    "  objects = ('angry','disgust','fear','happy','sad','surprise','neutral')\n",
    "  y_pos = np.arange(len(objects))\n",
    "\n",
    "  plt.bar(y_pos,emotions,align='centre',alpha=0.5)\n",
    "  plt.xtricks(y_pos,objects)\n",
    "  plt.ylabel('percentage')\n",
    "  plt.xlabel('emotion')\n",
    "\n",
    "  plt.show()"
   ]
  },
  {
   "cell_type": "code",
   "execution_count": 20,
   "metadata": {
    "executionInfo": {
     "elapsed": 1396,
     "status": "ok",
     "timestamp": 1603653931046,
     "user": {
      "displayName": "Deepanshu Arora",
      "photoUrl": "https://lh3.googleusercontent.com/a-/AOh14Gi80dFWDCPvEzYBhx3LuAcAR6hQgayGv0eS2_ze3Q=s64",
      "userId": "14386226755784488159"
     },
     "user_tz": -330
    },
    "id": "BKamGA2ooQ2B"
   },
   "outputs": [],
   "source": [
    "#saving the model\n",
    "model.save('/content/drive/My Drive/modelemotion.h5')"
   ]
  },
  {
   "cell_type": "code",
   "execution_count": 21,
   "metadata": {
    "colab": {
     "base_uri": "https://localhost:8080/",
     "height": 86
    },
    "executionInfo": {
     "elapsed": 7470,
     "status": "ok",
     "timestamp": 1603653941532,
     "user": {
      "displayName": "Deepanshu Arora",
      "photoUrl": "https://lh3.googleusercontent.com/a-/AOh14Gi80dFWDCPvEzYBhx3LuAcAR6hQgayGv0eS2_ze3Q=s64",
      "userId": "14386226755784488159"
     },
     "user_tz": -330
    },
    "id": "FyGlYvFKok5w",
    "outputId": "bb6968ef-a2e1-4334-a674-35932cfc1286"
   },
   "outputs": [
    {
     "name": "stdout",
     "output_type": "stream",
     "text": [
      "Train loss: 0.044838640838861465\n",
      "Train accuracy:  99.69347715377808\n",
      "Test loss: 1.5571165084838867\n",
      "Test accuracy:  53.30175757408142\n"
     ]
    }
   ],
   "source": [
    "#evaluation\n",
    "train_score = model.evaluate(x_train,y_train,verbose=0)\n",
    "print('Train loss:',train_score[0])\n",
    "print('Train accuracy: ',100*train_score[1])\n",
    "\n",
    "\n",
    "test_score = model.evaluate(x_test,y_test,verbose=0)\n",
    "print('Test loss:',test_score[0])\n",
    "print('Test accuracy: ',100*test_score[1])"
   ]
  },
  {
   "cell_type": "code",
   "execution_count": null,
   "metadata": {
    "executionInfo": {
     "elapsed": 330707,
     "status": "ok",
     "timestamp": 1603653686986,
     "user": {
      "displayName": "Deepanshu Arora",
      "photoUrl": "https://lh3.googleusercontent.com/a-/AOh14Gi80dFWDCPvEzYBhx3LuAcAR6hQgayGv0eS2_ze3Q=s64",
      "userId": "14386226755784488159"
     },
     "user_tz": -330
    },
    "id": "gh3hhU_Bpgbx"
   },
   "outputs": [],
   "source": []
  },
  {
   "cell_type": "code",
   "execution_count": null,
   "metadata": {
    "id": "xlTDuP28zg4G"
   },
   "outputs": [],
   "source": []
  }
 ],
 "metadata": {
  "accelerator": "GPU",
  "colab": {
   "collapsed_sections": [],
   "name": "expression_prediction_model.ipynb",
   "provenance": []
  },
  "kernelspec": {
   "display_name": "Python 3",
   "language": "python",
   "name": "python3"
  },
  "language_info": {
   "codemirror_mode": {
    "name": "ipython",
    "version": 3
   },
   "file_extension": ".py",
   "mimetype": "text/x-python",
   "name": "python",
   "nbconvert_exporter": "python",
   "pygments_lexer": "ipython3",
   "version": "3.8.5"
  }
 },
 "nbformat": 4,
 "nbformat_minor": 1
}
